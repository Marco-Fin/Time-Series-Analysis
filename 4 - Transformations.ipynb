{
 "cells": [
  {
   "cell_type": "markdown",
   "metadata": {
    "colab_type": "text",
    "id": "VbOHyWw7kG8Y"
   },
   "source": [
    "### Install Libraries"
   ]
  },
  {
   "cell_type": "code",
   "execution_count": 12,
   "metadata": {
    "colab": {},
    "colab_type": "code",
    "id": "twwV0w9rjNAQ"
   },
   "outputs": [],
   "source": [
    "import pandas as pd\n",
    "import matplotlib.pylab as plt\n",
    "import plotly.express as px\n",
    "import yfinance as yf\n",
    "import numpy as np\n",
    "from scipy.stats import boxcox\n",
    "\n",
    "plt.rcParams['figure.figsize']=(20,10)\n",
    "plt.style.use('seaborn')"
   ]
  },
  {
   "cell_type": "markdown",
   "metadata": {
    "colab_type": "text",
    "id": "ENecLVFeqUJe"
   },
   "source": [
    "### Download Data - Petrobras"
   ]
  },
  {
   "cell_type": "markdown",
   "metadata": {
    "colab_type": "text",
    "id": "tHx15Rjkqfen"
   },
   "source": [
    "Our data are based on shares of the company Petróleo Brasileiro S.A. — Petrobras (PETR4.SA). "
   ]
  },
  {
   "cell_type": "code",
   "execution_count": 13,
   "metadata": {
    "colab": {
     "base_uri": "https://localhost:8080/",
     "height": 34
    },
    "colab_type": "code",
    "executionInfo": {
     "elapsed": 753,
     "status": "ok",
     "timestamp": 1591558002966,
     "user": {
      "displayName": "Robson Fernandes",
      "photoUrl": "https://lh3.googleusercontent.com/a-/AOh14GgjvBU1kfl9shsphpf5nNLDcJ_0Orvn0W8V4Kh1=s64",
      "userId": "17695426196240115640"
     },
     "user_tz": 180
    },
    "id": "lQBNEL9SkQ9z",
    "outputId": "58be0681-94cc-4002-c539-3ad2502fbfd4"
   },
   "outputs": [
    {
     "name": "stdout",
     "output_type": "stream",
     "text": [
      "[*********************100%***********************]  1 of 1 completed\n"
     ]
    }
   ],
   "source": [
    "series_petr4 = yf.download(\"PETR4.SA\", start=\"2015-01-01\", end=\"2020-10-02\")"
   ]
  },
  {
   "cell_type": "code",
   "execution_count": 14,
   "metadata": {
    "colab": {
     "base_uri": "https://localhost:8080/",
     "height": 235
    },
    "colab_type": "code",
    "executionInfo": {
     "elapsed": 636,
     "status": "ok",
     "timestamp": 1591558004297,
     "user": {
      "displayName": "Robson Fernandes",
      "photoUrl": "https://lh3.googleusercontent.com/a-/AOh14GgjvBU1kfl9shsphpf5nNLDcJ_0Orvn0W8V4Kh1=s64",
      "userId": "17695426196240115640"
     },
     "user_tz": 180
    },
    "id": "When64lukTwS",
    "outputId": "3a4127e0-06c8-4190-f65f-91ec5d43e673"
   },
   "outputs": [
    {
     "data": {
      "text/html": [
       "<div>\n",
       "<style scoped>\n",
       "    .dataframe tbody tr th:only-of-type {\n",
       "        vertical-align: middle;\n",
       "    }\n",
       "\n",
       "    .dataframe tbody tr th {\n",
       "        vertical-align: top;\n",
       "    }\n",
       "\n",
       "    .dataframe thead th {\n",
       "        text-align: right;\n",
       "    }\n",
       "</style>\n",
       "<table border=\"1\" class=\"dataframe\">\n",
       "  <thead>\n",
       "    <tr style=\"text-align: right;\">\n",
       "      <th></th>\n",
       "      <th>Open</th>\n",
       "      <th>High</th>\n",
       "      <th>Low</th>\n",
       "      <th>Close</th>\n",
       "      <th>Adj Close</th>\n",
       "      <th>Volume</th>\n",
       "    </tr>\n",
       "    <tr>\n",
       "      <th>Date</th>\n",
       "      <th></th>\n",
       "      <th></th>\n",
       "      <th></th>\n",
       "      <th></th>\n",
       "      <th></th>\n",
       "      <th></th>\n",
       "    </tr>\n",
       "  </thead>\n",
       "  <tbody>\n",
       "    <tr>\n",
       "      <th>2015-01-02</th>\n",
       "      <td>9.99</td>\n",
       "      <td>9.99</td>\n",
       "      <td>9.35</td>\n",
       "      <td>9.36</td>\n",
       "      <td>8.683293</td>\n",
       "      <td>49559500</td>\n",
       "    </tr>\n",
       "    <tr>\n",
       "      <th>2015-01-05</th>\n",
       "      <td>9.14</td>\n",
       "      <td>9.19</td>\n",
       "      <td>8.53</td>\n",
       "      <td>8.56</td>\n",
       "      <td>7.941135</td>\n",
       "      <td>78385100</td>\n",
       "    </tr>\n",
       "    <tr>\n",
       "      <th>2015-01-06</th>\n",
       "      <td>8.71</td>\n",
       "      <td>8.83</td>\n",
       "      <td>8.04</td>\n",
       "      <td>8.28</td>\n",
       "      <td>7.681378</td>\n",
       "      <td>84723300</td>\n",
       "    </tr>\n",
       "    <tr>\n",
       "      <th>2015-01-07</th>\n",
       "      <td>8.56</td>\n",
       "      <td>8.73</td>\n",
       "      <td>8.36</td>\n",
       "      <td>8.67</td>\n",
       "      <td>8.043181</td>\n",
       "      <td>85531000</td>\n",
       "    </tr>\n",
       "    <tr>\n",
       "      <th>2015-01-08</th>\n",
       "      <td>8.79</td>\n",
       "      <td>9.39</td>\n",
       "      <td>8.74</td>\n",
       "      <td>9.23</td>\n",
       "      <td>8.562695</td>\n",
       "      <td>83306300</td>\n",
       "    </tr>\n",
       "  </tbody>\n",
       "</table>\n",
       "</div>"
      ],
      "text/plain": [
       "            Open  High   Low  Close  Adj Close    Volume\n",
       "Date                                                    \n",
       "2015-01-02  9.99  9.99  9.35   9.36   8.683293  49559500\n",
       "2015-01-05  9.14  9.19  8.53   8.56   7.941135  78385100\n",
       "2015-01-06  8.71  8.83  8.04   8.28   7.681378  84723300\n",
       "2015-01-07  8.56  8.73  8.36   8.67   8.043181  85531000\n",
       "2015-01-08  8.79  9.39  8.74   9.23   8.562695  83306300"
      ]
     },
     "execution_count": 14,
     "metadata": {},
     "output_type": "execute_result"
    }
   ],
   "source": [
    "series_petr4.head(5)"
   ]
  },
  {
   "cell_type": "markdown",
   "metadata": {
    "colab_type": "text",
    "id": "jskgp9yluc8Y"
   },
   "source": [
    "#### Time Series Visualization\n",
    "#### OPEN"
   ]
  },
  {
   "cell_type": "code",
   "execution_count": 15,
   "metadata": {
    "colab": {
     "base_uri": "https://localhost:8080/",
     "height": 542
    },
    "colab_type": "code",
    "executionInfo": {
     "elapsed": 938,
     "status": "ok",
     "timestamp": 1591558008348,
     "user": {
      "displayName": "Robson Fernandes",
      "photoUrl": "https://lh3.googleusercontent.com/a-/AOh14GgjvBU1kfl9shsphpf5nNLDcJ_0Orvn0W8V4Kh1=s64",
      "userId": "17695426196240115640"
     },
     "user_tz": 180
    },
    "id": "Ylu5kFGkubMR",
    "outputId": "fd3d49fe-8c79-4981-af4b-9d892b765ecd"
   },
   "outputs": [
    {
     "data": {
      "image/png": "[encoded data removed]",
      "text/plain": [
       "<Figure size 1368x288 with 1 Axes>"
      ]
     },
     "metadata": {},
     "output_type": "display_data"
    }
   ],
   "source": [
    "series_petr4[[\"Open\"]].plot(figsize = (19, 4)) \n",
    "plt.show()"
   ]
  },
  {
   "cell_type": "markdown",
   "metadata": {
    "colab_type": "text",
    "id": "DSnpOwIZ0xaR"
   },
   "source": [
    "### Exploratory Analysis - Distribution Analysis"
   ]
  },
  {
   "cell_type": "markdown",
   "metadata": {
    "colab_type": "text",
    "id": "ZT9WEs1n1X8d"
   },
   "source": [
    "Histogram graph plot to evaluate if data has a bell shape distribution (Gaussian Distribution)."
   ]
  },
  {
   "cell_type": "code",
   "execution_count": 16,
   "metadata": {
    "colab": {
     "base_uri": "https://localhost:8080/",
     "height": 347
    },
    "colab_type": "code",
    "executionInfo": {
     "elapsed": 699,
     "status": "ok",
     "timestamp": 1591555209123,
     "user": {
      "displayName": "Robson Fernandes",
      "photoUrl": "https://lh3.googleusercontent.com/a-/AOh14GgjvBU1kfl9shsphpf5nNLDcJ_0Orvn0W8V4Kh1=s64",
      "userId": "17695426196240115640"
     },
     "user_tz": 180
    },
    "id": "Pz1-Q5qy02ZT",
    "outputId": "960eb911-c0ce-40c7-d4b3-cbf4d2e68fd7"
   },
   "outputs": [
    {
     "data": {
      "image/png": "[encoded data removed]",
      "text/plain": [
       "<Figure size 576x396 with 1 Axes>"
      ]
     },
     "metadata": {},
     "output_type": "display_data"
    }
   ],
   "source": [
    "series_petr4[\"Open\"].plot(kind=\"hist\")\n",
    "plt.show()"
   ]
  },
  {
   "cell_type": "markdown",
   "metadata": {
    "colab_type": "text",
    "id": "hjoFa-TA2Um1"
   },
   "source": [
    "### Test - Augmented Dickey-Fuller"
   ]
  },
  {
   "cell_type": "markdown",
   "metadata": {
    "colab_type": "text",
    "id": "jARUAKNq2eFN"
   },
   "source": [
    "Statistical tests make strongs supositions about your data. They only can be used to inform the extent to which the null hypothesis can be rejected or fail to be rejected. The result must be interpreter for a given problem to be significant.\n",
    "\n",
    "However, they can be provide a quickly verification and confirmatory evidences that your time series <b>is stationary or not.</b>The test <b>Augmented Dickey-Fuller</b> is a type of a statistical test that is very useful for this kind of analysis\n",
    "\n",
    "<br>\n",
    "<hr>\n",
    "<br>\n",
    "<b>Null Hypothesis (H0)</b> : If don't be rejected, suggests that time series has a unit root, which means that it's not stationary. There is some structure dependent of time.<br><br>\n",
    "\n",
    "<b>Alternative Hypothesis (H1)</b> : the null hypothesis is rejected; suggests that the time series doesn't have a unit root, which means it's stationary. There isn't structure dependent of time.\n",
    "\n",
    "<br>\n",
    "<hr>\n",
    "<br>\n",
    "<b>We interpreter this result using p-value of test. One p-value below a limit (as 5% or 1%) suggests that we should reject the null hypothesis (stationary); otherwise, a p-value above suggests that we fail in reject the null hypothesis (non-stationary).</b>\n",
    "<br><br>\n",
    "<ul>\n",
    "<li><b>p-value > 0,05</b> : fail in reject the null hypothesis (H0), the data has a unit root and are <b>not stationary.</b></li>\n",
    "\n",
    "<li><b>p-value <= 0,05</b> : reject the null hypothesis (H0), the data doesn't have a unit root and are <b> stationary.</b></li>\n",
    "</ul>"
   ]
  },
  {
   "cell_type": "markdown",
   "metadata": {
    "colab_type": "text",
    "id": "QxlOY5QE3_hN"
   },
   "source": [
    "<br>\n",
    "<hr>\n",
    "<br>\n",
    "Below is an example of the test <b>Augmented Dickey-Fuller</b> in stock data from Petrobras. The librarie <b>statsmodels</b> provides the function <b>adfuller()</b> that implements the test."
   ]
  },
  {
   "cell_type": "code",
   "execution_count": 17,
   "metadata": {
    "colab": {
     "base_uri": "https://localhost:8080/",
     "height": 119
    },
    "colab_type": "code",
    "executionInfo": {
     "elapsed": 779,
     "status": "ok",
     "timestamp": 1591555283022,
     "user": {
      "displayName": "Robson Fernandes",
      "photoUrl": "https://lh3.googleusercontent.com/a-/AOh14GgjvBU1kfl9shsphpf5nNLDcJ_0Orvn0W8V4Kh1=s64",
      "userId": "17695426196240115640"
     },
     "user_tz": 180
    },
    "id": "9dnE79cr4Hpk",
    "outputId": "b0e70540-bbe0-4af2-d818-77ecd49fc75d"
   },
   "outputs": [
    {
     "name": "stdout",
     "output_type": "stream",
     "text": [
      "ADF Statistic: -2.056293\n",
      "p-value: 0.262449\n"
     ]
    }
   ],
   "source": [
    "from statsmodels.tsa.stattools import adfuller\n",
    "\n",
    "X = series_petr4[\"Open\"]\n",
    "\n",
    "result = adfuller(X)\n",
    "\n",
    "print('ADF Statistic: %f' % result[0])\n",
    "print('p-value: %f' % result[1])"
   ]
  },
  {
   "cell_type": "markdown",
   "metadata": {
    "colab_type": "text",
    "id": "CrU275Qt5EGq"
   },
   "source": [
    "The example tell us the statistical value of <b>-2.05</b>.\n",
    "\n",
    "The more negative this statistic, bigger the likelihood of we reject the null hypothesis (we have a stationary data).\n",
    "\n",
    "Otherwise, if we don't reject the null hypothesis (we have a stationary data).\n",
    "<br><hr><br>\n",
    "Validating p-value we have the value of <b>0.26</b>, that is <br>\n",
    "\n",
    "<b>Value 0.26 > 0,05</b> : fail to reject the null hypothesis (H0), soon the data has a unit root and <b>are not stationary.</b>"
   ]
  },
  {
   "cell_type": "markdown",
   "metadata": {
    "colab_type": "text",
    "id": "PmcnEwA-6502"
   },
   "source": [
    "<br>"
   ]
  },
  {
   "cell_type": "markdown",
   "metadata": {
    "colab_type": "text",
    "id": "alHEv8a9RNrR"
   },
   "source": [
    "### Differentiation\n",
    "\n",
    "In this method, we calculate the difference of consecutive terms in the serie. The differentiation is usually performed to get rid of the variable average. Mathematically, the differentiation can be writen as:"
   ]
  },
  {
   "cell_type": "markdown",
   "metadata": {
    "colab_type": "text",
    "id": "uhS83H9GRa6t"
   },
   "source": [
    "###### Yt = Yt - Y(t-1)"
   ]
  },
  {
   "cell_type": "markdown",
   "metadata": {
    "colab_type": "text",
    "id": "CNvmCNrLRg8y"
   },
   "source": [
    "where Yt is the value in instant t"
   ]
  },
  {
   "cell_type": "code",
   "execution_count": 18,
   "metadata": {
    "colab": {},
    "colab_type": "code",
    "id": "8XcwRvsORjOd"
   },
   "outputs": [],
   "source": [
    "series_petr4['OpenTransform_diff'] = series_petr4['Open'] - series_petr4['Open'].shift(1)\n",
    "series_petr4['OpenTransform_diff'].dropna(inplace=True)"
   ]
  },
  {
   "cell_type": "code",
   "execution_count": 19,
   "metadata": {
    "colab": {
     "base_uri": "https://localhost:8080/",
     "height": 51
    },
    "colab_type": "code",
    "executionInfo": {
     "elapsed": 603,
     "status": "ok",
     "timestamp": 1591558037792,
     "user": {
      "displayName": "Robson Fernandes",
      "photoUrl": "https://lh3.googleusercontent.com/a-/AOh14GgjvBU1kfl9shsphpf5nNLDcJ_0Orvn0W8V4Kh1=s64",
      "userId": "17695426196240115640"
     },
     "user_tz": 180
    },
    "id": "IGsX1bvdRuEj",
    "outputId": "60e4b6bc-9bac-4aac-a2b6-a402493d6af5"
   },
   "outputs": [
    {
     "name": "stdout",
     "output_type": "stream",
     "text": [
      "ADF Statistic: -11.023033\n",
      "p-value: 0.000000\n"
     ]
    }
   ],
   "source": [
    "from statsmodels.tsa.stattools import adfuller\n",
    "\n",
    "X = series_petr4[\"OpenTransform_diff\"]\n",
    "\n",
    "result = adfuller(X)\n",
    "\n",
    "print('ADF Statistic: %f' % result[0])\n",
    "print('p-value: %f' % result[1])"
   ]
  },
  {
   "cell_type": "markdown",
   "metadata": {
    "colab_type": "text",
    "id": "Vq3xxQLDSF4m"
   },
   "source": [
    "### Sazonal Differentiation\n",
    "\n",
    "In sazonal differentiationNa diferenciação sazonal, instead of calculating the difference between consecutive values, we calculate the difference between an observation and a previous observation from the same station. For example, an observation made on Monday will be subtracted from an observation made on the previous Monday. Mathematically, it can be written as:"
   ]
  },
  {
   "cell_type": "markdown",
   "metadata": {
    "colab_type": "text",
    "id": "4NoIWzn3SOQ2"
   },
   "source": [
    "###### Yt = Yt - Y(tn)"
   ]
  },
  {
   "cell_type": "code",
   "execution_count": 20,
   "metadata": {
    "colab": {},
    "colab_type": "code",
    "id": "AmvLBx8JSR3O"
   },
   "outputs": [],
   "source": [
    "n = 7\n",
    "series_petr4['OpenTransform_diff'] = series_petr4['Open'] - series_petr4['Open'].shift(n)\n",
    "series_petr4['OpenTransform_diff'].dropna(inplace=True)"
   ]
  },
  {
   "cell_type": "code",
   "execution_count": 21,
   "metadata": {
    "colab": {
     "base_uri": "https://localhost:8080/",
     "height": 51
    },
    "colab_type": "code",
    "executionInfo": {
     "elapsed": 588,
     "status": "ok",
     "timestamp": 1591558057539,
     "user": {
      "displayName": "Robson Fernandes",
      "photoUrl": "https://lh3.googleusercontent.com/a-/AOh14GgjvBU1kfl9shsphpf5nNLDcJ_0Orvn0W8V4Kh1=s64",
      "userId": "17695426196240115640"
     },
     "user_tz": 180
    },
    "id": "tU5PoBrTS9-X",
    "outputId": "4dfc95ee-400a-4a71-e297-1617d2608164"
   },
   "outputs": [
    {
     "name": "stdout",
     "output_type": "stream",
     "text": [
      "ADF Statistic: -7.033806\n",
      "p-value: 0.000000\n"
     ]
    }
   ],
   "source": [
    "from statsmodels.tsa.stattools import adfuller\n",
    "\n",
    "X = series_petr4[\"OpenTransform_diff\"]\n",
    "\n",
    "result = adfuller(X)\n",
    "\n",
    "print('ADF Statistic: %f' % result[0])\n",
    "print('p-value: %f' % result[1])"
   ]
  },
  {
   "cell_type": "markdown",
   "metadata": {
    "colab_type": "text",
    "id": "IAceWkPQSlmQ"
   },
   "source": [
    "#### Transformation - Log with Differentiation\n",
    "\n",
    "Transformations are used to stabilize the non-constant variation in a series. Common transformation methods include energy transformation, square root, boxcox and log transformation. Let's do a quick log transformation and differentiation on our dataset:"
   ]
  },
  {
   "cell_type": "code",
   "execution_count": 22,
   "metadata": {
    "colab": {},
    "colab_type": "code",
    "id": "m264IlVOSrGx"
   },
   "outputs": [],
   "source": [
    "series_petr4['OpenTransform_log'] = np.log(series_petr4['Open'])\n",
    "\n",
    "series_petr4['OpenTransform_log_diff'] = series_petr4['OpenTransform_log'] - series_petr4['OpenTransform_log'].shift(1)\n",
    "series_petr4['OpenTransform_log_diff'].dropna(inplace=True)"
   ]
  },
  {
   "cell_type": "code",
   "execution_count": 23,
   "metadata": {
    "colab": {
     "base_uri": "https://localhost:8080/",
     "height": 51
    },
    "colab_type": "code",
    "executionInfo": {
     "elapsed": 544,
     "status": "ok",
     "timestamp": 1591558074849,
     "user": {
      "displayName": "Robson Fernandes",
      "photoUrl": "https://lh3.googleusercontent.com/a-/AOh14GgjvBU1kfl9shsphpf5nNLDcJ_0Orvn0W8V4Kh1=s64",
      "userId": "17695426196240115640"
     },
     "user_tz": 180
    },
    "id": "r3H6awXiTGw4",
    "outputId": "1761b255-c44f-4ca2-fa4b-b470379b108c"
   },
   "outputs": [
    {
     "name": "stdout",
     "output_type": "stream",
     "text": [
      "ADF Statistic: -10.106878\n",
      "p-value: 0.000000\n"
     ]
    }
   ],
   "source": [
    "from statsmodels.tsa.stattools import adfuller\n",
    "\n",
    "X = series_petr4[\"OpenTransform_log_diff\"]\n",
    "\n",
    "result = adfuller(X)\n",
    "\n",
    "print('ADF Statistic: %f' % result[0])\n",
    "\n",
    "print('p-value: %f' % result[1])"
   ]
  },
  {
   "cell_type": "markdown",
   "metadata": {
    "colab_type": "text",
    "id": "G1RZEUJ4Tkq9"
   },
   "source": [
    "#### Transformation - BoxCox with Differentiation\n",
    "\n",
    "Transformations are used to stabilize the non-constant variation in a series. Common transformation methods include energy transformation, square root, boxcox and log transformation. Let's do a quick log transformation and differentiation on our dataset:"
   ]
  },
  {
   "cell_type": "code",
   "execution_count": 24,
   "metadata": {
    "colab": {
     "base_uri": "https://localhost:8080/",
     "height": 34
    },
    "colab_type": "code",
    "executionInfo": {
     "elapsed": 625,
     "status": "ok",
     "timestamp": 1591556730554,
     "user": {
      "displayName": "Robson Fernandes",
      "photoUrl": "https://lh3.googleusercontent.com/a-/AOh14GgjvBU1kfl9shsphpf5nNLDcJ_0Orvn0W8V4Kh1=s64",
      "userId": "17695426196240115640"
     },
     "user_tz": 180
    },
    "id": "Yl0ecjTZTmT0",
    "outputId": "07eac7e7-0d01-414b-f00d-56ba37fcf4c3"
   },
   "outputs": [
    {
     "name": "stdout",
     "output_type": "stream",
     "text": [
      "Lambda: 0.555261\n"
     ]
    }
   ],
   "source": [
    "series_petr4['OpenTransform_boxcox'], lam = boxcox(series_petr4[\"Open\"])\n",
    "print('Lambda: %f' % lam)\n",
    "\n",
    "series_petr4['OpenTransform_boxcox_diff'] = series_petr4['OpenTransform_boxcox'] - series_petr4['OpenTransform_boxcox'].shift(1)\n",
    "series_petr4['OpenTransform_boxcox_diff'].dropna(inplace=True)"
   ]
  },
  {
   "cell_type": "code",
   "execution_count": 25,
   "metadata": {
    "colab": {
     "base_uri": "https://localhost:8080/",
     "height": 51
    },
    "colab_type": "code",
    "executionInfo": {
     "elapsed": 784,
     "status": "ok",
     "timestamp": 1591556748914,
     "user": {
      "displayName": "Robson Fernandes",
      "photoUrl": "https://lh3.googleusercontent.com/a-/AOh14GgjvBU1kfl9shsphpf5nNLDcJ_0Orvn0W8V4Kh1=s64",
      "userId": "17695426196240115640"
     },
     "user_tz": 180
    },
    "id": "faNh2vVJT4bi",
    "outputId": "64d28500-34d2-4c60-c861-6f8fd241ce85"
   },
   "outputs": [
    {
     "name": "stdout",
     "output_type": "stream",
     "text": [
      "ADF Statistic: -12.159411\n",
      "p-value: 0.000000\n"
     ]
    }
   ],
   "source": [
    "from statsmodels.tsa.stattools import adfuller\n",
    "\n",
    "X = series_petr4[\"OpenTransform_boxcox_diff\"]\n",
    "\n",
    "result = adfuller(X)\n",
    "\n",
    "print('ADF Statistic: %f' % result[0])\n",
    "print('p-value: %f' % result[1])"
   ]
  },
  {
   "cell_type": "markdown",
   "metadata": {
    "colab": {},
    "colab_type": "code",
    "id": "ZqdShPdvcP9C"
   },
   "source": [
    "The best transformation so far has been the BoxCox with Differentiation, as it presented a more negative value of the ADF Statistics."
   ]
  },
  {
   "cell_type": "code",
   "execution_count": null,
   "metadata": {},
   "outputs": [],
   "source": []
  }
 ],
 "metadata": {
  "colab": {
   "authorship_tag": "ABX9TyOf5BrYOM4Rfqm1ABgQMM4S",
   "collapsed_sections": [],
   "name": "4 - Transformações.ipynb",
   "provenance": []
  },
  "kernelspec": {
   "display_name": "Python 3",
   "language": "python",
   "name": "python3"
  },
  "language_info": {
   "codemirror_mode": {
    "name": "ipython",
    "version": 3
   },
   "file_extension": ".py",
   "mimetype": "text/x-python",
   "name": "python",
   "nbconvert_exporter": "python",
   "pygments_lexer": "ipython3",
   "version": "3.7.6"
  }
 },
 "nbformat": 4,
 "nbformat_minor": 1
}
